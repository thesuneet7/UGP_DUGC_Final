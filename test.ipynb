{
 "cells": [
  {
   "cell_type": "code",
   "execution_count": 6,
   "id": "75eb8a86",
   "metadata": {},
   "outputs": [
    {
     "name": "stdout",
     "output_type": "stream",
     "text": [
      "<bound method NDFrame.head of    Molecule_ID  Free_Energy\n",
      "0            1   -54.967142\n",
      "1            2   -48.617357\n",
      "2            3   -56.476885\n",
      "3            4   -65.230299\n",
      "4            5   -47.658466\n",
      "5            6   -47.658630\n",
      "6            7   -65.792128\n",
      "7            8   -57.674347\n",
      "8            9   -45.305256\n",
      "9           10   -55.425600>\n"
     ]
    }
   ],
   "source": [
    "import pandas as pd\n",
    "import numpy as np\n",
    "\n",
    "# Generate synthetic dataset\n",
    "np.random.seed(42)\n",
    "\n",
    "num_molecules = 10\n",
    "molecule_ids = np.arange(1, num_molecules + 1)\n",
    "\n",
    "# Generate free energy values (negative random values)\n",
    "free_energies = -np.abs(np.random.normal(loc=50, scale=10, size=num_molecules))\n",
    "\n",
    "# Create DataFrame\n",
    "df = pd.DataFrame({\n",
    "    \"Molecule_ID\": molecule_ids,\n",
    "    \"Free_Energy\": free_energies\n",
    "})\n",
    "\n",
    "print(df.head)\n",
    "\n",
    "df.to_csv(\"molecule_free_energy.csv\", index=False)"
   ]
  },
  {
   "cell_type": "code",
   "execution_count": 7,
   "id": "9164996e",
   "metadata": {},
   "outputs": [
    {
     "data": {
      "text/html": [
       "<div>\n",
       "<style scoped>\n",
       "    .dataframe tbody tr th:only-of-type {\n",
       "        vertical-align: middle;\n",
       "    }\n",
       "\n",
       "    .dataframe tbody tr th {\n",
       "        vertical-align: top;\n",
       "    }\n",
       "\n",
       "    .dataframe thead th {\n",
       "        text-align: right;\n",
       "    }\n",
       "</style>\n",
       "<table border=\"1\" class=\"dataframe\">\n",
       "  <thead>\n",
       "    <tr style=\"text-align: right;\">\n",
       "      <th></th>\n",
       "      <th>Molecule_ID</th>\n",
       "      <th>Free_Energy</th>\n",
       "    </tr>\n",
       "  </thead>\n",
       "  <tbody>\n",
       "    <tr>\n",
       "      <th>0</th>\n",
       "      <td>1</td>\n",
       "      <td>-54.967142</td>\n",
       "    </tr>\n",
       "    <tr>\n",
       "      <th>1</th>\n",
       "      <td>2</td>\n",
       "      <td>-48.617357</td>\n",
       "    </tr>\n",
       "    <tr>\n",
       "      <th>2</th>\n",
       "      <td>3</td>\n",
       "      <td>-56.476885</td>\n",
       "    </tr>\n",
       "    <tr>\n",
       "      <th>3</th>\n",
       "      <td>4</td>\n",
       "      <td>-65.230299</td>\n",
       "    </tr>\n",
       "    <tr>\n",
       "      <th>4</th>\n",
       "      <td>5</td>\n",
       "      <td>-47.658466</td>\n",
       "    </tr>\n",
       "    <tr>\n",
       "      <th>5</th>\n",
       "      <td>6</td>\n",
       "      <td>-47.658630</td>\n",
       "    </tr>\n",
       "    <tr>\n",
       "      <th>6</th>\n",
       "      <td>7</td>\n",
       "      <td>-65.792128</td>\n",
       "    </tr>\n",
       "    <tr>\n",
       "      <th>7</th>\n",
       "      <td>8</td>\n",
       "      <td>-57.674347</td>\n",
       "    </tr>\n",
       "    <tr>\n",
       "      <th>8</th>\n",
       "      <td>9</td>\n",
       "      <td>-45.305256</td>\n",
       "    </tr>\n",
       "    <tr>\n",
       "      <th>9</th>\n",
       "      <td>10</td>\n",
       "      <td>-55.425600</td>\n",
       "    </tr>\n",
       "  </tbody>\n",
       "</table>\n",
       "</div>"
      ],
      "text/plain": [
       "   Molecule_ID  Free_Energy\n",
       "0            1   -54.967142\n",
       "1            2   -48.617357\n",
       "2            3   -56.476885\n",
       "3            4   -65.230299\n",
       "4            5   -47.658466\n",
       "5            6   -47.658630\n",
       "6            7   -65.792128\n",
       "7            8   -57.674347\n",
       "8            9   -45.305256\n",
       "9           10   -55.425600"
      ]
     },
     "execution_count": 7,
     "metadata": {},
     "output_type": "execute_result"
    }
   ],
   "source": [
    "df"
   ]
  },
  {
   "cell_type": "code",
   "execution_count": 3,
   "id": "cbdf78d9",
   "metadata": {},
   "outputs": [],
   "source": [
    "import sqlite3\n",
    "\n",
    "# Replace 'your_database_file.db' with the name of your .db file\n",
    "conn = sqlite3.connect('molecules_pubchem.db')\n",
    "cursor = conn.cursor()"
   ]
  },
  {
   "cell_type": "code",
   "execution_count": 4,
   "id": "40f42754",
   "metadata": {},
   "outputs": [
    {
     "name": "stdout",
     "output_type": "stream",
     "text": [
      "Tables in the database: [('molecules',)]\n",
      "Schema for your_table_name: []\n"
     ]
    }
   ],
   "source": [
    "# List all tables in the database\n",
    "cursor.execute(\"SELECT name FROM sqlite_master WHERE type='table';\")\n",
    "tables = cursor.fetchall()\n",
    "print(\"Tables in the database:\", tables)\n",
    "\n",
    "# Get the schema of a specific table (replace 'your_table_name' with an actual table name)\n",
    "cursor.execute(\"PRAGMA table_info(your_table_name);\")\n",
    "schema = cursor.fetchall()\n",
    "print(\"Schema for your_table_name:\", schema)"
   ]
  },
  {
   "cell_type": "code",
   "execution_count": 5,
   "id": "6e053f05",
   "metadata": {},
   "outputs": [
    {
     "name": "stdout",
     "output_type": "stream",
     "text": [
      "   molecule_id   molecule_name  pubchem_cid  free_energy  \\\n",
      "0            1         methane          297   -54.967142   \n",
      "1            2           water          962   -48.617357   \n",
      "2            3         ammonia          222   -56.476885   \n",
      "3            4  carbon dioxide          280   -65.230299   \n",
      "4            5          ethane         6324   -47.658466   \n",
      "\n",
      "                                        xyz_filepath molecular_formula  \\\n",
      "0      pubchem_xyz_structures/molecule_1_methane.xyz               CH4   \n",
      "1        pubchem_xyz_structures/molecule_2_water.xyz               H2O   \n",
      "2      pubchem_xyz_structures/molecule_3_ammonia.xyz               H3N   \n",
      "3  pubchem_xyz_structures/molecule_4_carbon_dioxi...               CO2   \n",
      "4       pubchem_xyz_structures/molecule_5_ethane.xyz              C2H6   \n",
      "\n",
      "   molecular_weight         created_date  \n",
      "0            16.043  2025-08-28 14:48:14  \n",
      "1            18.015  2025-08-28 14:48:17  \n",
      "2            17.031  2025-08-28 14:48:20  \n",
      "3            44.009  2025-08-28 14:48:23  \n",
      "4            30.070  2025-08-28 14:48:31  \n"
     ]
    }
   ],
   "source": [
    "import pandas as pd\n",
    "\n",
    "# Query a specific table and load it into a pandas DataFrame\n",
    "df = pd.read_sql_query(\"SELECT * FROM molecules;\", conn)\n",
    "\n",
    "# Display the first few rows of the DataFrame\n",
    "print(df.head())"
   ]
  }
 ],
 "metadata": {
  "kernelspec": {
   "display_name": "Python 3",
   "language": "python",
   "name": "python3"
  },
  "language_info": {
   "codemirror_mode": {
    "name": "ipython",
    "version": 3
   },
   "file_extension": ".py",
   "mimetype": "text/x-python",
   "name": "python",
   "nbconvert_exporter": "python",
   "pygments_lexer": "ipython3",
   "version": "3.11.3"
  }
 },
 "nbformat": 4,
 "nbformat_minor": 5
}
